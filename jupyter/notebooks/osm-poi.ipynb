{
 "cells": [
  {
   "cell_type": "code",
   "execution_count": 5,
   "metadata": {
    "scrolled": false
   },
   "outputs": [
    {
     "name": "stdout",
     "output_type": "stream",
     "text": [
      "{\"type\": \"RECORD\", \"stream\": \"osm_poi\", \"record\": {\"name\": \"Albert Heijn\", \"type\": null, \"geometry\": \"POINT(5.503666 51.4413015)\"}}\n",
      "{\"type\": \"RECORD\", \"stream\": \"osm_poi\", \"record\": {\"name\": \"Action Eindhoven\", \"type\": null, \"geometry\": \"POINT(5.5033448 51.442243)\"}}\n",
      "{\"type\": \"RECORD\", \"stream\": \"osm_poi\", \"record\": {\"name\": null, \"type\": \"post_box\", \"geometry\": \"POINT(5.5029273 51.4418341)\"}}\n",
      "{\"type\": \"RECORD\", \"stream\": \"osm_poi\", \"record\": {\"name\": \"Dragon City\", \"type\": \"restaurant\", \"geometry\": \"POINT(5.504625 51.4417659)\"}}\n",
      "{\"type\": \"RECORD\", \"stream\": \"osm_poi\", \"record\": {\"name\": \"Knabbel\", \"type\": \"pub\", \"geometry\": \"POINT(5.4997387 51.4419028)\"}}\n",
      "{\"type\": \"RECORD\", \"stream\": \"osm_poi\", \"record\": {\"name\": \"De gulden\", \"type\": \"fast_food\", \"geometry\": \"POINT(5.5086572 51.4422422)\"}}\n",
      "{\"type\": \"RECORD\", \"stream\": \"osm_poi\", \"record\": {\"name\": \"Ruud Schellekens Tweewielerspecialist\", \"type\": null, \"geometry\": \"POINT(5.5083874 51.4421255)\"}}\n",
      "{\"type\": \"RECORD\", \"stream\": \"osm_poi\", \"record\": {\"name\": \"RR zwembaden\", \"type\": null, \"geometry\": \"POINT(5.5058685 51.4424954)\"}}\n",
      "{\"type\": \"RECORD\", \"stream\": \"osm_poi\", \"record\": {\"name\": \"Total\", \"type\": \"fuel\", \"geometry\": \"POINT(5.5048073 51.440253)\"}}\n",
      "{\"type\": \"RECORD\", \"stream\": \"osm_poi\", \"record\": {\"name\": \"De Heksenketel\", \"type\": \"pub\", \"geometry\": \"POINT(5.5050983 51.4412906)\"}}\n",
      "{\"type\": \"RECORD\", \"stream\": \"osm_poi\", \"record\": {\"name\": \"Hair by T&G\", \"type\": null, \"geometry\": \"POINT(5.5076332 51.4402046)\"}}\n",
      "{\"type\": \"RECORD\", \"stream\": \"osm_poi\", \"record\": {\"name\": \"Lawrence Pub\", \"type\": \"cafe\", \"geometry\": \"POINT(5.5049428 51.4415841)\"}}\n",
      "{\"type\": \"RECORD\", \"stream\": \"osm_poi\", \"record\": {\"name\": \"Zen.nl Eindhoven\", \"type\": \"meditation_centre\", \"geometry\": \"POINT(5.5069548 51.4417586)\"}}\n",
      "{\"type\": \"RECORD\", \"stream\": \"osm_poi\", \"record\": {\"name\": \"La Toscana\", \"type\": \"fast_food\", \"geometry\": \"POINT(5.5035512 51.4415489)\"}}\n",
      "{\"type\": \"RECORD\", \"stream\": \"osm_poi\", \"record\": {\"name\": \"Rijwiel Cash & Carry\", \"type\": null, \"geometry\": \"POINT(5.5012202 51.4420741)\"}}\n",
      "{\"type\": \"RECORD\", \"stream\": \"osm_poi\", \"record\": {\"name\": \"Etos\", \"type\": null, \"geometry\": \"POINT(5.5022869 51.4418645)\"}}\n",
      "{\"type\": \"RECORD\", \"stream\": \"osm_poi\", \"record\": {\"name\": \"Haarmode 't Kappertje\", \"type\": null, \"geometry\": \"POINT(5.5024335 51.4418458)\"}}\n",
      "{\"type\": \"RECORD\", \"stream\": \"osm_poi\", \"record\": {\"name\": \"Kruidvat\", \"type\": null, \"geometry\": \"POINT(5.5031167 51.4417295)\"}}\n",
      "{\"type\": \"RECORD\", \"stream\": \"osm_poi\", \"record\": {\"name\": \"Bristol\", \"type\": null, \"geometry\": \"POINT(5.5006069 51.4423417)\"}}\n",
      "{\"type\": \"RECORD\", \"stream\": \"osm_poi\", \"record\": {\"name\": \"Apotheek MediCenter Haagdijk\", \"type\": \"pharmacy\", \"geometry\": \"POINT(5.5009886 51.4424273)\"}}\n",
      "{\"type\": \"RECORD\", \"stream\": \"osm_poi\", \"record\": {\"name\": \"Zeeman\", \"type\": null, \"geometry\": \"POINT(5.5025788 51.4421077)\"}}\n",
      "{\"type\": \"RECORD\", \"stream\": \"osm_poi\", \"record\": {\"name\": \"Aldi\", \"type\": null, \"geometry\": \"POINT(5.5027562 51.442078)\"}}\n",
      "{\"type\": \"RECORD\", \"stream\": \"osm_poi\", \"record\": {\"name\": null, \"type\": \"bench\", \"geometry\": \"POINT(5.5042036 51.4436763)\"}}\n",
      "{\"type\": \"RECORD\", \"stream\": \"osm_poi\", \"record\": {\"name\": null, \"type\": \"bench\", \"geometry\": \"POINT(5.5066683 51.4438252)\"}}\n",
      "{\"type\": \"RECORD\", \"stream\": \"osm_poi\", \"record\": {\"name\": null, \"type\": \"waste_basket\", \"geometry\": \"POINT(5.4998076 51.43955)\"}}\n",
      "{\"type\": \"RECORD\", \"stream\": \"osm_poi\", \"record\": {\"name\": null, \"type\": \"bench\", \"geometry\": \"POINT(5.5017754 51.4405827)\"}}\n",
      "{\"type\": \"RECORD\", \"stream\": \"osm_poi\", \"record\": {\"name\": null, \"type\": \"waste_basket\", \"geometry\": \"POINT(5.5017315 51.4406365)\"}}\n",
      "{\"type\": \"RECORD\", \"stream\": \"osm_poi\", \"record\": {\"name\": null, \"type\": \"bench\", \"geometry\": \"POINT(5.5017409 51.4406069)\"}}\n",
      "{\"type\": \"RECORD\", \"stream\": \"osm_poi\", \"record\": {\"name\": null, \"type\": \"waste_basket\", \"geometry\": \"POINT(5.5005113 51.4400391)\"}}\n",
      "{\"type\": \"RECORD\", \"stream\": \"osm_poi\", \"record\": {\"name\": null, \"type\": \"bench\", \"geometry\": \"POINT(5.4997774 51.4395361)\"}}\n",
      "{\"type\": \"RECORD\", \"stream\": \"osm_poi\", \"record\": {\"name\": null, \"type\": \"bench\", \"geometry\": \"POINT(5.5004811 51.4400159)\"}}\n",
      "{\"type\": \"RECORD\", \"stream\": \"osm_poi\", \"record\": {\"name\": null, \"type\": \"bench\", \"geometry\": \"POINT(5.5012259 51.4403985)\"}}\n",
      "{\"type\": \"RECORD\", \"stream\": \"osm_poi\", \"record\": {\"name\": null, \"type\": \"waste_basket\", \"geometry\": \"POINT(5.5012126 51.4404149)\"}}\n",
      "{\"type\": \"RECORD\", \"stream\": \"osm_poi\", \"record\": {\"name\": null, \"type\": \"bench\", \"geometry\": \"POINT(5.5011488 51.4440712)\"}}\n",
      "{\"type\": \"RECORD\", \"stream\": \"osm_poi\", \"record\": {\"name\": null, \"type\": \"bench\", \"geometry\": \"POINT(5.5010616 51.4440443)\"}}\n",
      "{\"type\": \"RECORD\", \"stream\": \"osm_poi\", \"record\": {\"name\": null, \"type\": \"waste_basket\", \"geometry\": \"POINT(5.501157 51.444072)\"}}\n",
      "{\"type\": \"RECORD\", \"stream\": \"osm_poi\", \"record\": {\"name\": null, \"type\": \"waste_basket\", \"geometry\": \"POINT(5.5010592 51.4440486)\"}}\n"
     ]
    },
    {
     "name": "stderr",
     "output_type": "stream",
     "text": [
      "INFO METRIC: {\"type\": \"counter\", \"metric\": \"record_count\", \"value\": 37, \"tags\": {}}\n"
     ]
    },
    {
     "ename": "NameError",
     "evalue": "name 'n' is not defined",
     "output_type": "error",
     "traceback": [
      "\u001b[0;31m---------------------------------------------------------------------------\u001b[0m",
      "\u001b[0;31mNameError\u001b[0m                                 Traceback (most recent call last)",
      "\u001b[0;32m<ipython-input-5-30160cdb3400>\u001b[0m in \u001b[0;36m<module>\u001b[0;34m\u001b[0m\n\u001b[1;32m     44\u001b[0m \u001b[0;32mwith\u001b[0m \u001b[0mrecord_counter\u001b[0m\u001b[0;34m(\u001b[0m\u001b[0mlog_interval\u001b[0m\u001b[0;34m=\u001b[0m\u001b[0;36m10\u001b[0m\u001b[0;34m)\u001b[0m \u001b[0;32mas\u001b[0m \u001b[0mcounter\u001b[0m\u001b[0;34m:\u001b[0m\u001b[0;34m\u001b[0m\u001b[0;34m\u001b[0m\u001b[0m\n\u001b[1;32m     45\u001b[0m     \u001b[0mosm_handler\u001b[0m \u001b[0;34m=\u001b[0m \u001b[0mOsmHandler\u001b[0m\u001b[0;34m(\u001b[0m\u001b[0mrecord_counter\u001b[0m\u001b[0;34m=\u001b[0m\u001b[0mcounter\u001b[0m\u001b[0;34m)\u001b[0m\u001b[0;34m\u001b[0m\u001b[0;34m\u001b[0m\u001b[0m\n\u001b[0;32m---> 46\u001b[0;31m     \u001b[0mosm_handler\u001b[0m\u001b[0;34m.\u001b[0m\u001b[0mapply_file\u001b[0m\u001b[0;34m(\u001b[0m\u001b[0;34m'data/map.osm'\u001b[0m\u001b[0;34m)\u001b[0m\u001b[0;34m\u001b[0m\u001b[0;34m\u001b[0m\u001b[0m\n\u001b[0m",
      "\u001b[0;32m<ipython-input-5-30160cdb3400>\u001b[0m in \u001b[0;36marea\u001b[0;34m(self, a)\u001b[0m\n\u001b[1;32m     34\u001b[0m \u001b[0;34m\u001b[0m\u001b[0m\n\u001b[1;32m     35\u001b[0m     \u001b[0;32mdef\u001b[0m \u001b[0marea\u001b[0m\u001b[0;34m(\u001b[0m\u001b[0mself\u001b[0m\u001b[0;34m,\u001b[0m \u001b[0ma\u001b[0m\u001b[0;34m)\u001b[0m\u001b[0;34m:\u001b[0m\u001b[0;34m\u001b[0m\u001b[0;34m\u001b[0m\u001b[0m\n\u001b[0;32m---> 36\u001b[0;31m         \u001b[0;32mif\u001b[0m \u001b[0many\u001b[0m\u001b[0;34m(\u001b[0m\u001b[0mx\u001b[0m \u001b[0;32min\u001b[0m \u001b[0mn\u001b[0m\u001b[0;34m.\u001b[0m\u001b[0mtags\u001b[0m \u001b[0;32mfor\u001b[0m \u001b[0mx\u001b[0m \u001b[0;32min\u001b[0m \u001b[0;34m[\u001b[0m\u001b[0;34m'amenity'\u001b[0m\u001b[0;34m,\u001b[0m \u001b[0;34m'shop'\u001b[0m\u001b[0;34m]\u001b[0m\u001b[0;34m)\u001b[0m\u001b[0;34m:\u001b[0m\u001b[0;34m\u001b[0m\u001b[0;34m\u001b[0m\u001b[0m\n\u001b[0m\u001b[1;32m     37\u001b[0m             \u001b[0mwkb\u001b[0m \u001b[0;34m=\u001b[0m \u001b[0mwkbfab\u001b[0m\u001b[0;34m.\u001b[0m\u001b[0mcreate_multipolygon\u001b[0m\u001b[0;34m(\u001b[0m\u001b[0ma\u001b[0m\u001b[0;34m)\u001b[0m\u001b[0;34m\u001b[0m\u001b[0;34m\u001b[0m\u001b[0m\n\u001b[1;32m     38\u001b[0m             \u001b[0mpoly\u001b[0m \u001b[0;34m=\u001b[0m \u001b[0mwkblib\u001b[0m\u001b[0;34m.\u001b[0m\u001b[0mloads\u001b[0m\u001b[0;34m(\u001b[0m\u001b[0mwkb\u001b[0m\u001b[0;34m,\u001b[0m \u001b[0mhex\u001b[0m\u001b[0;34m=\u001b[0m\u001b[0;32mTrue\u001b[0m\u001b[0;34m)\u001b[0m\u001b[0;34m\u001b[0m\u001b[0;34m\u001b[0m\u001b[0m\n",
      "\u001b[0;32m<ipython-input-5-30160cdb3400>\u001b[0m in \u001b[0;36m<genexpr>\u001b[0;34m(.0)\u001b[0m\n\u001b[1;32m     34\u001b[0m \u001b[0;34m\u001b[0m\u001b[0m\n\u001b[1;32m     35\u001b[0m     \u001b[0;32mdef\u001b[0m \u001b[0marea\u001b[0m\u001b[0;34m(\u001b[0m\u001b[0mself\u001b[0m\u001b[0;34m,\u001b[0m \u001b[0ma\u001b[0m\u001b[0;34m)\u001b[0m\u001b[0;34m:\u001b[0m\u001b[0;34m\u001b[0m\u001b[0;34m\u001b[0m\u001b[0m\n\u001b[0;32m---> 36\u001b[0;31m         \u001b[0;32mif\u001b[0m \u001b[0many\u001b[0m\u001b[0;34m(\u001b[0m\u001b[0mx\u001b[0m \u001b[0;32min\u001b[0m \u001b[0mn\u001b[0m\u001b[0;34m.\u001b[0m\u001b[0mtags\u001b[0m \u001b[0;32mfor\u001b[0m \u001b[0mx\u001b[0m \u001b[0;32min\u001b[0m \u001b[0;34m[\u001b[0m\u001b[0;34m'amenity'\u001b[0m\u001b[0;34m,\u001b[0m \u001b[0;34m'shop'\u001b[0m\u001b[0;34m]\u001b[0m\u001b[0;34m)\u001b[0m\u001b[0;34m:\u001b[0m\u001b[0;34m\u001b[0m\u001b[0;34m\u001b[0m\u001b[0m\n\u001b[0m\u001b[1;32m     37\u001b[0m             \u001b[0mwkb\u001b[0m \u001b[0;34m=\u001b[0m \u001b[0mwkbfab\u001b[0m\u001b[0;34m.\u001b[0m\u001b[0mcreate_multipolygon\u001b[0m\u001b[0;34m(\u001b[0m\u001b[0ma\u001b[0m\u001b[0;34m)\u001b[0m\u001b[0;34m\u001b[0m\u001b[0;34m\u001b[0m\u001b[0m\n\u001b[1;32m     38\u001b[0m             \u001b[0mpoly\u001b[0m \u001b[0;34m=\u001b[0m \u001b[0mwkblib\u001b[0m\u001b[0;34m.\u001b[0m\u001b[0mloads\u001b[0m\u001b[0;34m(\u001b[0m\u001b[0mwkb\u001b[0m\u001b[0;34m,\u001b[0m \u001b[0mhex\u001b[0m\u001b[0;34m=\u001b[0m\u001b[0;32mTrue\u001b[0m\u001b[0;34m)\u001b[0m\u001b[0;34m\u001b[0m\u001b[0;34m\u001b[0m\u001b[0m\n",
      "\u001b[0;31mNameError\u001b[0m: name 'n' is not defined"
     ]
    }
   ],
   "source": [
    "from singer.metrics import record_counter\n",
    "import osmium\n",
    "import shapely.wkb as wkblib\n",
    "import singer\n",
    "from typing import List\n",
    "\n",
    "wkbfab = osmium.geom.WKBFactory()\n",
    "wktfab = osmium.geom.WKTFactory()\n",
    "\n",
    "\n",
    "class OsmHandler(osmium.SimpleHandler):\n",
    "    def __init__(self, record_counter: record_counter):\n",
    "        osmium.SimpleHandler.__init__(self)\n",
    "        self.record_counter = record_counter\n",
    "\n",
    "    def write_record(self, tags, wkt):\n",
    "        name = tags.get('name', None)\n",
    "        amenity = tags.get('amenity', None)\n",
    "\n",
    "        singer.write_records('osm_poi', [{\n",
    "            'name': name,\n",
    "            'type': amenity,\n",
    "            'geometry': wkt\n",
    "        }])\n",
    "\n",
    "        self.record_counter.increment()\n",
    "\n",
    "    def node(self, n):\n",
    "#         print(n.tags.get('shop', ''), 'amenity' in n.tags)\n",
    "#         if 'amenity' in n.tags:\n",
    "        if any(x in n.tags for x in ['amenity', 'shop']):\n",
    "            wkt = wktfab.create_point(n)\n",
    "            self.write_record(tags=n.tags, wkt=wkt)\n",
    "\n",
    "    def area(self, a):\n",
    "        if any(x in n.tags for x in ['amenity', 'shop']):\n",
    "            wkb = wkbfab.create_multipolygon(a)\n",
    "            poly = wkblib.loads(wkb, hex=True)\n",
    "            centroid = poly.representative_point()\n",
    "            wkt = centroid.wkt\n",
    "            self.write_record(tags=a.tags, wkt=wkt)\n",
    "        \n",
    "            \n",
    "with record_counter(log_interval=10) as counter:\n",
    "    osm_handler = OsmHandler(record_counter=counter)\n",
    "    osm_handler.apply_file('data/map.osm')"
   ]
  },
  {
   "cell_type": "code",
   "execution_count": null,
   "metadata": {},
   "outputs": [],
   "source": []
  }
 ],
 "metadata": {
  "kernelspec": {
   "display_name": "Python 3",
   "language": "python",
   "name": "python3"
  },
  "language_info": {
   "codemirror_mode": {
    "name": "ipython",
    "version": 3
   },
   "file_extension": ".py",
   "mimetype": "text/x-python",
   "name": "python",
   "nbconvert_exporter": "python",
   "pygments_lexer": "ipython3",
   "version": "3.8.6"
  }
 },
 "nbformat": 4,
 "nbformat_minor": 4
}
