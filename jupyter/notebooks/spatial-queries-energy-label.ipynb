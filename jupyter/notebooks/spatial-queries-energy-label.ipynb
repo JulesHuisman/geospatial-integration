{
 "cells": [
  {
   "cell_type": "code",
   "execution_count": 9,
   "metadata": {},
   "outputs": [
    {
     "name": "stdout",
     "output_type": "stream",
     "text": [
      "\u001b[33mWARNING: The directory '/home/jovyan/.cache/pip' or its parent directory is not owned or is not writable by the current user. The cache has been disabled. Check the permissions and owner of that directory. If executing pip with sudo, you may want sudo's -H flag.\u001b[0m\r\n"
     ]
    }
   ],
   "source": [
    "!pip install pydeck geopandas -q"
   ]
  },
  {
   "cell_type": "code",
   "execution_count": 2,
   "metadata": {},
   "outputs": [
    {
     "name": "stdout",
     "output_type": "stream",
     "text": [
      "\u001b[33mWARNING: The directory '/home/jovyan/.cache/pip' or its parent directory is not owned or is not writable by the current user. The cache has been disabled. Check the permissions and owner of that directory. If executing pip with sudo, you may want sudo's -H flag.\u001b[0m\r\n"
     ]
    }
   ],
   "source": [
    "!pip install --upgrade 'google-cloud-bigquery[bqstorage,pandas]' -q"
   ]
  },
  {
   "cell_type": "code",
   "execution_count": 1,
   "metadata": {},
   "outputs": [],
   "source": [
    "%load_ext google.cloud.bigquery"
   ]
  },
  {
   "cell_type": "code",
   "execution_count": 2,
   "metadata": {},
   "outputs": [],
   "source": [
    "import pydeck as pdk\n",
    "import geopandas as gpd\n",
    "from shapely import wkt\n",
    "import matplotlib\n",
    "import matplotlib.cm as cm"
   ]
  },
  {
   "cell_type": "code",
   "execution_count": 11,
   "metadata": {},
   "outputs": [
    {
     "name": "stderr",
     "output_type": "stream",
     "text": [
      "Query complete after 0.00s: 100%|██████████| 5/5 [00:00<00:00, 2437.42query/s]                        \n",
      "Downloading: 100%|██████████| 13459/13459 [00:02<00:00, 5247.41rows/s]\n"
     ]
    }
   ],
   "source": [
    "%%bigquery energy_labels_neighbourhood\n",
    "with energy_neighbourhood as (\n",
    "\n",
    "    select \n",
    "        dim_neighbourhood.neighbourhood_key,\n",
    "        avg(fct_energy_label.energy_label_numeric) as mean_energy_label\n",
    "    from \n",
    "        `quantile.analytics.fct_energy_label` fct_energy_label\n",
    "    inner join\n",
    "        `quantile.analytics.dim_neighbourhood` dim_neighbourhood\n",
    "    on \n",
    "        fct_energy_label.neighbourhood_key = dim_neighbourhood.neighbourhood_key\n",
    "    group by \n",
    "        dim_neighbourhood.neighbourhood_key\n",
    "\n",
    ")\n",
    "\n",
    "select \n",
    "    energy_neighbourhood.mean_energy_label,\n",
    "    dim_neighbourhood.neighbourhood_name,\n",
    "    dim_neighbourhood.municipality_name,\n",
    "    ST_SIMPLIFY(dim_neighbourhood.neighbourhood_geometry, 10) as neighbourhood_geometry\n",
    "from \n",
    "    energy_neighbourhood \n",
    "left join \n",
    "    `quantile.analytics.dim_neighbourhood` dim_neighbourhood\n",
    "on \n",
    "    energy_neighbourhood.neighbourhood_key = dim_neighbourhood.neighbourhood_key"
   ]
  },
  {
   "cell_type": "code",
   "execution_count": 12,
   "metadata": {},
   "outputs": [
    {
     "data": {
      "text/html": [
       "<div>\n",
       "<style scoped>\n",
       "    .dataframe tbody tr th:only-of-type {\n",
       "        vertical-align: middle;\n",
       "    }\n",
       "\n",
       "    .dataframe tbody tr th {\n",
       "        vertical-align: top;\n",
       "    }\n",
       "\n",
       "    .dataframe thead th {\n",
       "        text-align: right;\n",
       "    }\n",
       "</style>\n",
       "<table border=\"1\" class=\"dataframe\">\n",
       "  <thead>\n",
       "    <tr style=\"text-align: right;\">\n",
       "      <th></th>\n",
       "      <th>mean_energy_label</th>\n",
       "      <th>neighbourhood_name</th>\n",
       "      <th>municipality_name</th>\n",
       "      <th>neighbourhood_geometry</th>\n",
       "    </tr>\n",
       "  </thead>\n",
       "  <tbody>\n",
       "    <tr>\n",
       "      <th>0</th>\n",
       "      <td>6.041596</td>\n",
       "      <td>Noorderplassen</td>\n",
       "      <td>Almere</td>\n",
       "      <td>GEOMETRYCOLLECTION(LINESTRING(5.161633730905 5...</td>\n",
       "    </tr>\n",
       "    <tr>\n",
       "      <th>1</th>\n",
       "      <td>8.000000</td>\n",
       "      <td>Schoppenstee</td>\n",
       "      <td>Hof van Twente</td>\n",
       "      <td>POLYGON((6.70810404503765 52.262033408428, 6.7...</td>\n",
       "    </tr>\n",
       "    <tr>\n",
       "      <th>2</th>\n",
       "      <td>7.589744</td>\n",
       "      <td>Ten Esschen</td>\n",
       "      <td>Heerlen</td>\n",
       "      <td>POLYGON((5.91636675938768 50.9099181216575, 5....</td>\n",
       "    </tr>\n",
       "    <tr>\n",
       "      <th>3</th>\n",
       "      <td>6.486486</td>\n",
       "      <td>Uitdam</td>\n",
       "      <td>Waterland</td>\n",
       "      <td>GEOMETRYCOLLECTION(LINESTRING(5.07684573198345...</td>\n",
       "    </tr>\n",
       "    <tr>\n",
       "      <th>4</th>\n",
       "      <td>9.566887</td>\n",
       "      <td>Bloemendaal</td>\n",
       "      <td>Bloemendaal</td>\n",
       "      <td>POLYGON((4.61023962190999 52.4118098952414, 4....</td>\n",
       "    </tr>\n",
       "  </tbody>\n",
       "</table>\n",
       "</div>"
      ],
      "text/plain": [
       "   mean_energy_label neighbourhood_name municipality_name  \\\n",
       "0           6.041596     Noorderplassen            Almere   \n",
       "1           8.000000       Schoppenstee    Hof van Twente   \n",
       "2           7.589744        Ten Esschen           Heerlen   \n",
       "3           6.486486             Uitdam         Waterland   \n",
       "4           9.566887        Bloemendaal       Bloemendaal   \n",
       "\n",
       "                              neighbourhood_geometry  \n",
       "0  GEOMETRYCOLLECTION(LINESTRING(5.161633730905 5...  \n",
       "1  POLYGON((6.70810404503765 52.262033408428, 6.7...  \n",
       "2  POLYGON((5.91636675938768 50.9099181216575, 5....  \n",
       "3  GEOMETRYCOLLECTION(LINESTRING(5.07684573198345...  \n",
       "4  POLYGON((4.61023962190999 52.4118098952414, 4....  "
      ]
     },
     "execution_count": 12,
     "metadata": {},
     "output_type": "execute_result"
    }
   ],
   "source": [
    "energy_labels_neighbourhood.head()"
   ]
  },
  {
   "cell_type": "code",
   "execution_count": 13,
   "metadata": {},
   "outputs": [],
   "source": [
    "energy_labels_neighbourhood.to_csv('data/energy_labels_neighbourhood.csv', index=False)"
   ]
  }
 ],
 "metadata": {
  "kernelspec": {
   "display_name": "Python 3",
   "language": "python",
   "name": "python3"
  },
  "language_info": {
   "codemirror_mode": {
    "name": "ipython",
    "version": 3
   },
   "file_extension": ".py",
   "mimetype": "text/x-python",
   "name": "python",
   "nbconvert_exporter": "python",
   "pygments_lexer": "ipython3",
   "version": "3.8.6"
  }
 },
 "nbformat": 4,
 "nbformat_minor": 4
}
