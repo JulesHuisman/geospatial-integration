{
 "cells": [
  {
   "cell_type": "code",
   "execution_count": 9,
   "metadata": {},
   "outputs": [
    {
     "name": "stdout",
     "output_type": "stream",
     "text": [
      "\u001b[33mWARNING: The directory '/home/jovyan/.cache/pip' or its parent directory is not owned or is not writable by the current user. The cache has been disabled. Check the permissions and owner of that directory. If executing pip with sudo, you may want sudo's -H flag.\u001b[0m\r\n"
     ]
    }
   ],
   "source": [
    "!pip install pydeck geopandas -q"
   ]
  },
  {
   "cell_type": "code",
   "execution_count": 2,
   "metadata": {},
   "outputs": [
    {
     "name": "stdout",
     "output_type": "stream",
     "text": [
      "\u001b[33mWARNING: The directory '/home/jovyan/.cache/pip' or its parent directory is not owned or is not writable by the current user. The cache has been disabled. Check the permissions and owner of that directory. If executing pip with sudo, you may want sudo's -H flag.\u001b[0m\r\n"
     ]
    }
   ],
   "source": [
    "!pip install --upgrade 'google-cloud-bigquery[bqstorage,pandas]' -q"
   ]
  },
  {
   "cell_type": "code",
   "execution_count": 1,
   "metadata": {},
   "outputs": [],
   "source": [
    "%load_ext google.cloud.bigquery"
   ]
  },
  {
   "cell_type": "code",
   "execution_count": 2,
   "metadata": {},
   "outputs": [],
   "source": [
    "import pydeck as pdk\n",
    "import geopandas as gpd\n",
    "from shapely import wkt\n",
    "import matplotlib\n",
    "import matplotlib.cm as cm"
   ]
  },
  {
   "cell_type": "code",
   "execution_count": 5,
   "metadata": {},
   "outputs": [
    {
     "name": "stderr",
     "output_type": "stream",
     "text": [
      "Query complete after 0.00s: 100%|██████████| 3/3 [00:00<00:00, 1763.30query/s]                        \n",
      "Downloading: 100%|██████████| 1864/1864 [00:01<00:00, 1848.39rows/s]\n"
     ]
    }
   ],
   "source": [
    "%%bigquery upcoming_housing\n",
    "with upcoming_housing as (\n",
    "\n",
    "    select \n",
    "        address_surface_area,\n",
    "        address_geometry\n",
    "    from \n",
    "        `quantile.analytics.dim_address` dim_address\n",
    "    where \n",
    "        (address_state = 'housing_formed')\n",
    "        and \n",
    "        (address_is_latest = true)\n",
    "        and \n",
    "        (address_function_types like '%woonfunctie%')\n",
    "\n",
    "),\n",
    "\n",
    "cluster_ids as (\n",
    "\n",
    "  select\n",
    "    *,\n",
    "    ST_CLUSTERDBSCAN(address_geometry, 50, 20) OVER () AS cluster_id\n",
    "  from \n",
    "    upcoming_housing\n",
    "\n",
    "),\n",
    "\n",
    "clusters as (\n",
    "\n",
    "  select\n",
    "    count(*) as n_housing,\n",
    "    ST_CENTROID_AGG(address_geometry) as centroid,\n",
    "    sum(address_surface_area) as total_surface_area,\n",
    "    cluster_id\n",
    "  from \n",
    "    cluster_ids\n",
    "  where \n",
    "    cluster_id is not null\n",
    "  group by\n",
    "    cluster_id\n",
    "\n",
    ")\n",
    "\n",
    "select \n",
    "    *, \n",
    "    st_x(centroid) as long, \n",
    "    st_y(centroid) as lat\n",
    "from \n",
    "    clusters "
   ]
  },
  {
   "cell_type": "code",
   "execution_count": 8,
   "metadata": {},
   "outputs": [
    {
     "name": "stderr",
     "output_type": "stream",
     "text": [
      "Query complete after 0.00s: 100%|██████████| 2/2 [00:00<00:00, 906.68query/s]                         \n",
      "Downloading: 100%|██████████| 37657/37657 [00:01<00:00, 31374.57rows/s]\n"
     ]
    }
   ],
   "source": [
    "%%bigquery poi\n",
    "select\n",
    "    poi_name,\n",
    "    poi_type,\n",
    "    st_x(poi_geometry) as long,\n",
    "    st_y(poi_geometry) as lat,\n",
    "    poi_geometry\n",
    "from \n",
    "    `quantile.analytics.fct_poi`\n",
    "where \n",
    "    poi_type in ('supermarket', 'restaurant', 'fast_food', 'cafe', 'hairdresser', 'pub', 'bakery', 'beauty', 'convenience', 'sports', 'electronics')"
   ]
  },
  {
   "cell_type": "code",
   "execution_count": 6,
   "metadata": {},
   "outputs": [
    {
     "data": {
      "text/html": [
       "<div>\n",
       "<style scoped>\n",
       "    .dataframe tbody tr th:only-of-type {\n",
       "        vertical-align: middle;\n",
       "    }\n",
       "\n",
       "    .dataframe tbody tr th {\n",
       "        vertical-align: top;\n",
       "    }\n",
       "\n",
       "    .dataframe thead th {\n",
       "        text-align: right;\n",
       "    }\n",
       "</style>\n",
       "<table border=\"1\" class=\"dataframe\">\n",
       "  <thead>\n",
       "    <tr style=\"text-align: right;\">\n",
       "      <th></th>\n",
       "      <th>n_housing</th>\n",
       "      <th>centroid</th>\n",
       "      <th>total_surface_area</th>\n",
       "      <th>cluster_id</th>\n",
       "      <th>long</th>\n",
       "      <th>lat</th>\n",
       "    </tr>\n",
       "  </thead>\n",
       "  <tbody>\n",
       "    <tr>\n",
       "      <th>0</th>\n",
       "      <td>965</td>\n",
       "      <td>POINT(4.90398191475263 52.3869573181951)</td>\n",
       "      <td>79864</td>\n",
       "      <td>0</td>\n",
       "      <td>4.903982</td>\n",
       "      <td>52.386957</td>\n",
       "    </tr>\n",
       "    <tr>\n",
       "      <th>1</th>\n",
       "      <td>802</td>\n",
       "      <td>POINT(4.95435829724871 52.3687093368319)</td>\n",
       "      <td>65402</td>\n",
       "      <td>1</td>\n",
       "      <td>4.954358</td>\n",
       "      <td>52.368709</td>\n",
       "    </tr>\n",
       "    <tr>\n",
       "      <th>2</th>\n",
       "      <td>36</td>\n",
       "      <td>POINT(4.8068002820286 52.2482345300849)</td>\n",
       "      <td>2571</td>\n",
       "      <td>2</td>\n",
       "      <td>4.806800</td>\n",
       "      <td>52.248235</td>\n",
       "    </tr>\n",
       "    <tr>\n",
       "      <th>3</th>\n",
       "      <td>208</td>\n",
       "      <td>POINT(4.9704021364796 52.3370137535944)</td>\n",
       "      <td>15450</td>\n",
       "      <td>3</td>\n",
       "      <td>4.970402</td>\n",
       "      <td>52.337014</td>\n",
       "    </tr>\n",
       "    <tr>\n",
       "      <th>4</th>\n",
       "      <td>27</td>\n",
       "      <td>POINT(5.72809549137642 51.8064509567714)</td>\n",
       "      <td>3269</td>\n",
       "      <td>4</td>\n",
       "      <td>5.728095</td>\n",
       "      <td>51.806451</td>\n",
       "    </tr>\n",
       "  </tbody>\n",
       "</table>\n",
       "</div>"
      ],
      "text/plain": [
       "   n_housing                                  centroid  total_surface_area  \\\n",
       "0        965  POINT(4.90398191475263 52.3869573181951)               79864   \n",
       "1        802  POINT(4.95435829724871 52.3687093368319)               65402   \n",
       "2         36   POINT(4.8068002820286 52.2482345300849)                2571   \n",
       "3        208   POINT(4.9704021364796 52.3370137535944)               15450   \n",
       "4         27  POINT(5.72809549137642 51.8064509567714)                3269   \n",
       "\n",
       "   cluster_id      long        lat  \n",
       "0           0  4.903982  52.386957  \n",
       "1           1  4.954358  52.368709  \n",
       "2           2  4.806800  52.248235  \n",
       "3           3  4.970402  52.337014  \n",
       "4           4  5.728095  51.806451  "
      ]
     },
     "execution_count": 6,
     "metadata": {},
     "output_type": "execute_result"
    }
   ],
   "source": [
    "upcoming_housing.head()"
   ]
  },
  {
   "cell_type": "code",
   "execution_count": 11,
   "metadata": {},
   "outputs": [
    {
     "data": {
      "text/html": [
       "<div>\n",
       "<style scoped>\n",
       "    .dataframe tbody tr th:only-of-type {\n",
       "        vertical-align: middle;\n",
       "    }\n",
       "\n",
       "    .dataframe tbody tr th {\n",
       "        vertical-align: top;\n",
       "    }\n",
       "\n",
       "    .dataframe thead th {\n",
       "        text-align: right;\n",
       "    }\n",
       "</style>\n",
       "<table border=\"1\" class=\"dataframe\">\n",
       "  <thead>\n",
       "    <tr style=\"text-align: right;\">\n",
       "      <th></th>\n",
       "      <th>poi_name</th>\n",
       "      <th>poi_type</th>\n",
       "      <th>long</th>\n",
       "      <th>lat</th>\n",
       "      <th>poi_geometry</th>\n",
       "      <th>icon</th>\n",
       "    </tr>\n",
       "  </thead>\n",
       "  <tbody>\n",
       "    <tr>\n",
       "      <th>0</th>\n",
       "      <td>De Kruin</td>\n",
       "      <td>pub</td>\n",
       "      <td>4.501368</td>\n",
       "      <td>51.989036</td>\n",
       "      <td>POINT(4.5013683 51.9890357)</td>\n",
       "      <td>https://cdn1.iconfinder.com/data/icons/grocery...</td>\n",
       "    </tr>\n",
       "    <tr>\n",
       "      <th>1</th>\n",
       "      <td>Eetcafé The Bottom</td>\n",
       "      <td>pub</td>\n",
       "      <td>5.760809</td>\n",
       "      <td>52.711047</td>\n",
       "      <td>POINT(5.760809 52.7110469)</td>\n",
       "      <td>https://cdn1.iconfinder.com/data/icons/grocery...</td>\n",
       "    </tr>\n",
       "    <tr>\n",
       "      <th>2</th>\n",
       "      <td>Café Stynsgea</td>\n",
       "      <td>pub</td>\n",
       "      <td>6.159047</td>\n",
       "      <td>53.216426</td>\n",
       "      <td>POINT(6.1590472 53.2164258)</td>\n",
       "      <td>https://cdn1.iconfinder.com/data/icons/grocery...</td>\n",
       "    </tr>\n",
       "    <tr>\n",
       "      <th>3</th>\n",
       "      <td>Cafe Havana</td>\n",
       "      <td>pub</td>\n",
       "      <td>4.772214</td>\n",
       "      <td>51.821942</td>\n",
       "      <td>POINT(4.772214 51.8219416)</td>\n",
       "      <td>https://cdn1.iconfinder.com/data/icons/grocery...</td>\n",
       "    </tr>\n",
       "    <tr>\n",
       "      <th>4</th>\n",
       "      <td>Spek &amp; Bonen</td>\n",
       "      <td>pub</td>\n",
       "      <td>4.771803</td>\n",
       "      <td>51.821641</td>\n",
       "      <td>POINT(4.7718026 51.8216408)</td>\n",
       "      <td>https://cdn1.iconfinder.com/data/icons/grocery...</td>\n",
       "    </tr>\n",
       "  </tbody>\n",
       "</table>\n",
       "</div>"
      ],
      "text/plain": [
       "             poi_name poi_type      long        lat  \\\n",
       "0            De Kruin      pub  4.501368  51.989036   \n",
       "1  Eetcafé The Bottom      pub  5.760809  52.711047   \n",
       "2       Café Stynsgea      pub  6.159047  53.216426   \n",
       "3         Cafe Havana      pub  4.772214  51.821942   \n",
       "4        Spek & Bonen      pub  4.771803  51.821641   \n",
       "\n",
       "                  poi_geometry  \\\n",
       "0  POINT(4.5013683 51.9890357)   \n",
       "1   POINT(5.760809 52.7110469)   \n",
       "2  POINT(6.1590472 53.2164258)   \n",
       "3   POINT(4.772214 51.8219416)   \n",
       "4  POINT(4.7718026 51.8216408)   \n",
       "\n",
       "                                                icon  \n",
       "0  https://cdn1.iconfinder.com/data/icons/grocery...  \n",
       "1  https://cdn1.iconfinder.com/data/icons/grocery...  \n",
       "2  https://cdn1.iconfinder.com/data/icons/grocery...  \n",
       "3  https://cdn1.iconfinder.com/data/icons/grocery...  \n",
       "4  https://cdn1.iconfinder.com/data/icons/grocery...  "
      ]
     },
     "execution_count": 11,
     "metadata": {},
     "output_type": "execute_result"
    }
   ],
   "source": [
    "poi['icon'] = 'https://cdn1.iconfinder.com/data/icons/grocery-store-filled/64/Grocery_Shop-36-512.png'\n",
    "poi.head()"
   ]
  },
  {
   "cell_type": "code",
   "execution_count": 7,
   "metadata": {},
   "outputs": [],
   "source": [
    "upcoming_housing.to_csv('data/upcoming_housing.csv', index=False)"
   ]
  },
  {
   "cell_type": "code",
   "execution_count": 12,
   "metadata": {},
   "outputs": [],
   "source": [
    "poi.to_csv('data/poi.csv', index=False)"
   ]
  }
 ],
 "metadata": {
  "kernelspec": {
   "display_name": "Python 3",
   "language": "python",
   "name": "python3"
  },
  "language_info": {
   "codemirror_mode": {
    "name": "ipython",
    "version": 3
   },
   "file_extension": ".py",
   "mimetype": "text/x-python",
   "name": "python",
   "nbconvert_exporter": "python",
   "pygments_lexer": "ipython3",
   "version": "3.8.6"
  }
 },
 "nbformat": 4,
 "nbformat_minor": 4
}
